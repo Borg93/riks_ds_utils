{
 "cells": [
  {
   "cell_type": "code",
   "execution_count": 8,
   "metadata": {},
   "outputs": [],
   "source": [
    "from glob import glob\n",
    "import os\n",
    "from pathlib import Path\n",
    "from pathlib import PurePath\n",
    "import cv2\n",
    "from riks_ds_utils.page_transforms import PageTransforms\n",
    "import numpy as np\n",
    "import multiprocessing\n",
    "from multiprocessing import Pool\n",
    "import shutil"
   ]
  },
  {
   "cell_type": "code",
   "execution_count": null,
   "metadata": {},
   "outputs": [],
   "source": [
    "def get_img_page_pairs(basepath):\n",
    "    imgs = glob(os.path.join(basepath, '**'), recursive=True)\n",
    "    page = glob(os.path.join(basepath, '**'), recursive=True)\n",
    "\n",
    "    page = [x for x in imgs if x.lower().endswith(('.xml'))]\n",
    "    imgs = [x for x in imgs if x.lower().endswith(('.png', '.jpg', '.jpeg', '.tiff', 'tif','.bmp', '.gif'))]\n",
    "\n",
    "    page_names = ['_'.join(PurePath(x).parts[-3:]).split('.')[0] for x in page]\n",
    "\n",
    "    page_names = [x.replace('_page', '') for x in page_names]\n",
    "    imgs_page = list()\n",
    "\n",
    "    for i, img in enumerate(imgs):\n",
    "        img_name = '_'.join(PurePath(img).parts[-2:]).split('.')[0]\n",
    "    \n",
    "        try:\n",
    "            ind = page_names.index(img_name)\n",
    "            imgs_page.append((imgs[i], page[ind]))    \n",
    "        except:\n",
    "            pass\n",
    "\n",
    "    return imgs_page"
   ]
  },
  {
   "cell_type": "code",
   "execution_count": null,
   "metadata": {},
   "outputs": [],
   "source": [
    "def binarise_and_write_pairs(img, page, output_path):\n",
    "\n",
    "    os.makedirs(os.path.join(output_path, 'images'), exist_ok=True)\n",
    "    os.makedirs(os.path.join(output_path, 'page'), exist_ok=True)\n",
    "\n",
    "    img_name = '_'.join(PurePath(img).parts[-2:]).replace(' ', '_')\n",
    "    page_name = '_'.join(PurePath(page).parts[-3:]).replace(' ', '_')\n",
    "    page_name = page_name.replace('_page', '')\n",
    "\n",
    "    bgray = cv2.imread(img)[...,0]\n",
    "\n",
    "    blured1 = cv2.medianBlur(bgray,3)\n",
    "    blured2 = cv2.medianBlur(bgray,51)\n",
    "    divided = np.ma.divide(blured1, blured2).data\n",
    "    normed = np.uint8(255*divided/divided.max())\n",
    "    th, threshed = cv2.threshold(normed, 100, 255, cv2.THRESH_OTSU)\n",
    " \n",
    "    cv2.imwrite(os.path.join(output_path, 'images', img_name), threshed)\n",
    "    \n",
    "    shutil.copy(page, output_path)\n",
    "    dst_file = os.path.join(output_path, Path(page).name)\n",
    "    os.rename(dst_file, os.path.join(output_path, 'page', page_name))\n",
    "    "
   ]
  },
  {
   "cell_type": "code",
   "execution_count": null,
   "metadata": {},
   "outputs": [],
   "source": [
    "imgs_page = get_img_page_pairs('/home/erik/Riksarkivet/Data/HTR/HTR_1700')\n",
    "\n",
    "args = [(img, page, '/home/erik/Riksarkivet/Data/HTR/HTR_1700_clean') for img, page in imgs_page]\n",
    "\n",
    "cpu_count = multiprocessing.cpu_count()\n",
    "p = Pool(cpu_count)\n",
    "p.starmap(binarise_and_write_pairs, args)"
   ]
  },
  {
   "cell_type": "code",
   "execution_count": 9,
   "metadata": {},
   "outputs": [
    {
     "name": "stdout",
     "output_type": "stream",
     "text": [
      "/home/erik/Riksarkivet/Data/HTR/HTR_1700_clean/page\n",
      "5096\n",
      "5096\n"
     ]
    },
    {
     "ename": "ValueError",
     "evalue": "min() arg is an empty sequence",
     "output_type": "error",
     "traceback": [
      "\u001b[0;31m---------------------------------------------------------------------------\u001b[0m",
      "\u001b[0;31mValueError\u001b[0m                                Traceback (most recent call last)",
      "Cell \u001b[0;32mIn[9], line 1\u001b[0m\n\u001b[0;32m----> 1\u001b[0m PageTransforms\u001b[39m.\u001b[39;49mpage_to_mmlabs_ocr(\n\u001b[1;32m      2\u001b[0m     page_path\u001b[39m=\u001b[39;49m\u001b[39m'\u001b[39;49m\u001b[39m/home/erik/Riksarkivet/Data/HTR/HTR_1700_clean/page\u001b[39;49m\u001b[39m'\u001b[39;49m,\n\u001b[1;32m      3\u001b[0m     imgs_path\u001b[39m=\u001b[39;49m\u001b[39m'\u001b[39;49m\u001b[39m/home/erik/Riksarkivet/Data/HTR/HTR_1700_clean/images\u001b[39;49m\u001b[39m'\u001b[39;49m,\n\u001b[1;32m      4\u001b[0m     out_path\u001b[39m=\u001b[39;49m\u001b[39m'\u001b[39;49m\u001b[39m/home/erik/Riksarkivet/Projects/riks_ds_utils/data/processed/coco_1700.json\u001b[39;49m\u001b[39m'\u001b[39;49m,\n\u001b[1;32m      5\u001b[0m     schema\u001b[39m=\u001b[39;49m\u001b[39m'\u001b[39;49m\u001b[39mhttp://schema.primaresearch.org/PAGE/gts/pagecontent/2013-07-15\u001b[39;49m\u001b[39m'\u001b[39;49m\n\u001b[1;32m      6\u001b[0m     )\n",
      "File \u001b[0;32m~/Riksarkivet/Projects/riks_ds_utils/src/riks_ds_utils/page_transforms.py:166\u001b[0m, in \u001b[0;36mPageTransforms.page_to_mmlabs_ocr\u001b[0;34m(page_path, imgs_path, out_path, elem_type, schema)\u001b[0m\n\u001b[1;32m    163\u001b[0m                 text \u001b[39m=\u001b[39m text_field\u001b[39m.\u001b[39mtext\n\u001b[1;32m    165\u001b[0m     \u001b[39melif\u001b[39;00m child\u001b[39m.\u001b[39mtag \u001b[39m==\u001b[39m schema_formatted \u001b[39m+\u001b[39m \u001b[39m\"\u001b[39m\u001b[39mCoords\u001b[39m\u001b[39m\"\u001b[39m:\n\u001b[0;32m--> 166\u001b[0m         bbox, _, poly \u001b[39m=\u001b[39m PageTransforms\u001b[39m.\u001b[39;49m_get_bbox_area_poly_from_coords(child)\n\u001b[1;32m    168\u001b[0m \u001b[39mif\u001b[39;00m \u001b[39mnot\u001b[39;00m empty_text_field:\n\u001b[1;32m    169\u001b[0m     image_instance[\u001b[39m\"\u001b[39m\u001b[39minstances\u001b[39m\u001b[39m\"\u001b[39m]\u001b[39m.\u001b[39mappend(\u001b[39mdict\u001b[39m(bbox\u001b[39m=\u001b[39mbbox, bbox_label\u001b[39m=\u001b[39m\u001b[39m1\u001b[39m, mask\u001b[39m=\u001b[39mpoly, text\u001b[39m=\u001b[39mtext))\n",
      "File \u001b[0;32m~/Riksarkivet/Projects/riks_ds_utils/src/riks_ds_utils/page_transforms.py:43\u001b[0m, in \u001b[0;36mPageTransforms._get_bbox_area_poly_from_coords\u001b[0;34m(child)\u001b[0m\n\u001b[1;32m     40\u001b[0m py \u001b[39m=\u001b[39m [y \u001b[39mfor\u001b[39;00m (x, y) \u001b[39min\u001b[39;00m temp]\n\u001b[1;32m     41\u001b[0m poly \u001b[39m=\u001b[39m [p \u001b[39mfor\u001b[39;00m x \u001b[39min\u001b[39;00m temp \u001b[39mfor\u001b[39;00m p \u001b[39min\u001b[39;00m x]\n\u001b[0;32m---> 43\u001b[0m x_min, y_min, x_max, y_max \u001b[39m=\u001b[39m (\u001b[39mmin\u001b[39;49m(px), \u001b[39mmin\u001b[39m(py), \u001b[39mmax\u001b[39m(px), \u001b[39mmax\u001b[39m(py))\n\u001b[1;32m     44\u001b[0m bbox \u001b[39m=\u001b[39m [x_min, y_min, x_max \u001b[39m-\u001b[39m x_min, y_max \u001b[39m-\u001b[39m y_min]\n\u001b[1;32m     46\u001b[0m area \u001b[39m=\u001b[39m (x_max \u001b[39m-\u001b[39m x_min) \u001b[39m*\u001b[39m (y_max \u001b[39m-\u001b[39m y_min)\n",
      "\u001b[0;31mValueError\u001b[0m: min() arg is an empty sequence"
     ]
    }
   ],
   "source": [
    "PageTransforms.page_to_mmlabs_ocr(\n",
    "    page_path='/home/erik/Riksarkivet/Data/HTR/HTR_1700_clean/page',\n",
    "    imgs_path='/home/erik/Riksarkivet/Data/HTR/HTR_1700_clean/images',\n",
    "    out_path='/home/erik/Riksarkivet/Projects/riks_ds_utils/data/processed/coco_1700.json',\n",
    "    schema='http://schema.primaresearch.org/PAGE/gts/pagecontent/2013-07-15'\n",
    "    )"
   ]
  },
  {
   "cell_type": "code",
   "execution_count": null,
   "metadata": {},
   "outputs": [],
   "source": [
    "for i, (img, page) in enumerate(imgs_page):\n",
    "    im = cv2.imread(img)\n",
    "    if im is None:\n",
    "        print('a')\n",
    "    else:\n",
    "        if i % 100 == 0:\n",
    "            print(i)\n"
   ]
  }
 ],
 "metadata": {
  "kernelspec": {
   "display_name": ".venv",
   "language": "python",
   "name": "python3"
  },
  "language_info": {
   "codemirror_mode": {
    "name": "ipython",
    "version": 3
   },
   "file_extension": ".py",
   "mimetype": "text/x-python",
   "name": "python",
   "nbconvert_exporter": "python",
   "pygments_lexer": "ipython3",
   "version": "3.9.5"
  },
  "orig_nbformat": 4
 },
 "nbformat": 4,
 "nbformat_minor": 2
}
