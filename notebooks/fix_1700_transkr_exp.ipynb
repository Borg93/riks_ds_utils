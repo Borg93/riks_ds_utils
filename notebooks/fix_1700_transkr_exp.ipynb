{
 "cells": [
  {
   "cell_type": "code",
   "execution_count": 1,
   "metadata": {},
   "outputs": [],
   "source": [
    "from glob import glob\n",
    "import os\n",
    "from pathlib import Path\n",
    "from pathlib import PurePath\n",
    "import cv2\n",
    "from riks_ds_utils.page_transforms import PageTransforms\n",
    "import numpy as np\n",
    "import multiprocessing\n",
    "from multiprocessing import Pool\n",
    "import shutil"
   ]
  },
  {
   "cell_type": "code",
   "execution_count": null,
   "metadata": {},
   "outputs": [],
   "source": [
    "def get_img_page_pairs(basepath):\n",
    "    imgs = glob(os.path.join(basepath, '**'), recursive=True)\n",
    "    page = glob(os.path.join(basepath, '**'), recursive=True)\n",
    "\n",
    "    page = [x for x in imgs if x.lower().endswith(('.xml'))]\n",
    "    imgs = [x for x in imgs if x.lower().endswith(('.png', '.jpg', '.jpeg', '.tiff', 'tif','.bmp', '.gif'))]\n",
    "\n",
    "    page_names = ['_'.join(PurePath(x).parts[-3:]).split('.')[0] for x in page]\n",
    "\n",
    "    page_names = [x.replace('_page', '') for x in page_names]\n",
    "    imgs_page = list()\n",
    "\n",
    "    for i, img in enumerate(imgs):\n",
    "        img_name = '_'.join(PurePath(img).parts[-2:]).split('.')[0]\n",
    "    \n",
    "        try:\n",
    "            ind = page_names.index(img_name)\n",
    "            imgs_page.append((imgs[i], page[ind]))    \n",
    "        except:\n",
    "            pass\n",
    "\n",
    "    return imgs_page"
   ]
  },
  {
   "cell_type": "code",
   "execution_count": null,
   "metadata": {},
   "outputs": [],
   "source": [
    "def binarise_and_write_pairs(img, page, output_path):\n",
    "\n",
    "    os.makedirs(os.path.join(output_path, 'images'), exist_ok=True)\n",
    "    os.makedirs(os.path.join(output_path, 'page'), exist_ok=True)\n",
    "\n",
    "    img_name = '_'.join(PurePath(img).parts[-2:]).replace(' ', '_')\n",
    "    page_name = '_'.join(PurePath(page).parts[-3:]).replace(' ', '_')\n",
    "    page_name = page_name.replace('_page', '')\n",
    "\n",
    "    bgray = cv2.imread(img)[...,0]\n",
    "\n",
    "    blured1 = cv2.medianBlur(bgray,3)\n",
    "    blured2 = cv2.medianBlur(bgray,51)\n",
    "    divided = np.ma.divide(blured1, blured2).data\n",
    "    normed = np.uint8(255*divided/divided.max())\n",
    "    th, threshed = cv2.threshold(normed, 100, 255, cv2.THRESH_OTSU)\n",
    " \n",
    "    cv2.imwrite(os.path.join(output_path, 'images', img_name), threshed)\n",
    "    \n",
    "    shutil.copy(page, output_path)\n",
    "    dst_file = os.path.join(output_path, Path(page).name)\n",
    "    os.rename(dst_file, os.path.join(output_path, 'page', page_name))\n",
    "    "
   ]
  },
  {
   "cell_type": "code",
   "execution_count": null,
   "metadata": {},
   "outputs": [],
   "source": [
    "imgs_page = get_img_page_pairs('/home/erik/Riksarkivet/Data/HTR/HTR_1700')\n",
    "\n",
    "args = [(img, page, '/home/erik/Riksarkivet/Data/HTR/HTR_1700_clean') for img, page in imgs_page]\n",
    "\n",
    "cpu_count = multiprocessing.cpu_count()\n",
    "p = Pool(cpu_count)\n",
    "p.starmap(binarise_and_write_pairs, args)"
   ]
  },
  {
   "cell_type": "code",
   "execution_count": null,
   "metadata": {},
   "outputs": [],
   "source": [
    "PageTransforms.page_to_mmlabs_ocr(\n",
    "    page_path='/home/erik/Riksarkivet/Data/HTR/HTR_1700_clean/page',\n",
    "    imgs_path='/home/erik/Riksarkivet/Data/HTR/HTR_1700_clean/images',\n",
    "    out_path='/home/erik/Riksarkivet/Projects/riks_ds_utils/data/processed/OCRDataset2_1700.json',\n",
    "    schema='http://schema.primaresearch.org/PAGE/gts/pagecontent/2013-07-15'\n",
    "    )"
   ]
  },
  {
   "cell_type": "code",
   "execution_count": 4,
   "metadata": {},
   "outputs": [],
   "source": [
    "from riks_ds_utils.mmlabs_utils import MMLabsUtils\n",
    "\n",
    "train, val = MMLabsUtils.split_ocr_dataset('/home/erik/Riksarkivet/Projects/riks_ds_utils/data/processed/OCRDataset2_1700.json', 0.1)\n",
    "\n",
    "PageTransforms._write_json('/home/erik/Riksarkivet/Projects/riks_ds_utils/data/processed/OCRDataset2_1700_train.json', train)\n",
    "PageTransforms._write_json('/home/erik/Riksarkivet/Projects/riks_ds_utils/data/processed/OCRDataset2_1700_val.json', val)"
   ]
  },
  {
   "cell_type": "code",
   "execution_count": 2,
   "metadata": {},
   "outputs": [],
   "source": [
    "dict = PageTransforms.extract_dict_from_page('/home/erik/Riksarkivet/Data/HTR/HTR_1700_clean/page', 'http://schema.primaresearch.org/PAGE/gts/pagecontent/2013-07-15')"
   ]
  },
  {
   "cell_type": "code",
   "execution_count": 4,
   "metadata": {},
   "outputs": [],
   "source": [
    "with open('/home/erik/Riksarkivet/Projects/riks_ds_utils/data/processed/dict1700.txt', 'w') as f:\n",
    "    for char in dict:\n",
    "        f.write(char + '\\n')"
   ]
  },
  {
   "cell_type": "code",
   "execution_count": null,
   "metadata": {},
   "outputs": [],
   "source": [
    "for i, (img, page) in enumerate(imgs_page):\n",
    "    im = cv2.imread(img)\n",
    "    if im is None:\n",
    "        print('a')\n",
    "    else:\n",
    "        if i % 100 == 0:\n",
    "            print(i)\n"
   ]
  }
 ],
 "metadata": {
  "kernelspec": {
   "display_name": ".venv",
   "language": "python",
   "name": "python3"
  },
  "language_info": {
   "codemirror_mode": {
    "name": "ipython",
    "version": 3
   },
   "file_extension": ".py",
   "mimetype": "text/x-python",
   "name": "python",
   "nbconvert_exporter": "python",
   "pygments_lexer": "ipython3",
   "version": "3.9.5"
  },
  "orig_nbformat": 4
 },
 "nbformat": 4,
 "nbformat_minor": 2
}
