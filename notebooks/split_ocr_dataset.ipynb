{
 "cells": [
  {
   "cell_type": "code",
   "execution_count": 6,
   "metadata": {},
   "outputs": [],
   "source": [
    "import json"
   ]
  },
  {
   "cell_type": "code",
   "execution_count": 7,
   "metadata": {},
   "outputs": [],
   "source": [
    "with open('/home/erik/Riksarkivet/Projects/riks_ds_utils/data/processed/OCRDataset_1700.json', 'r') as f:\n",
    "    dataset = json.load(f)"
   ]
  },
  {
   "cell_type": "code",
   "execution_count": 10,
   "metadata": {},
   "outputs": [],
   "source": [
    "suffix1 = '-'\n",
    "suffix2 = '='\n",
    "for line in dataset['data_list'][0:1000]:\n",
    "    for annot in line['instances']:\n",
    "        annot['text'].strip()\n",
    "\n",
    "        \n",
    "        if annot['text'].endswith('-'):\n",
    "            annot['text'] = annot['text'].removesuffix(suffix1) + '¬'\n",
    "            print(annot['text'])\n",
    "\n",
    "        if annot['text'].endswith('='):\n",
    "            annot['text'] = annot['text'].removesuffix(suffix2) + '¬'\n",
    "            print(annot['text'])"
   ]
  },
  {
   "cell_type": "code",
   "execution_count": 14,
   "metadata": {},
   "outputs": [
    {
     "name": "stdout",
     "output_type": "stream",
     "text": [
      "asdfl-ökjasdf¬\n"
     ]
    }
   ],
   "source": [
    "s = \"asdfl-ökjasdf-\"\n",
    "\n",
    "if s.endswith('-'):\n",
    "\n",
    "    s = s.removesuffix('-') + '¬'\n",
    "\n",
    "print(s)"
   ]
  },
  {
   "cell_type": "code",
   "execution_count": 9,
   "metadata": {},
   "outputs": [],
   "source": [
    "with open('/home/erik/Riksarkivet/Projects/riks_ds_utils/data/processed/OCRDataset_1700.json', \"w\", encoding=\"utf8\") as f:\n",
    "    json_str = json.dumps(dataset, indent=4, ensure_ascii=False)\n",
    "    f.write(json_str)"
   ]
  }
 ],
 "metadata": {
  "kernelspec": {
   "display_name": ".venv",
   "language": "python",
   "name": "python3"
  },
  "language_info": {
   "codemirror_mode": {
    "name": "ipython",
    "version": 3
   },
   "file_extension": ".py",
   "mimetype": "text/x-python",
   "name": "python",
   "nbconvert_exporter": "python",
   "pygments_lexer": "ipython3",
   "version": "3.9.5"
  },
  "orig_nbformat": 4
 },
 "nbformat": 4,
 "nbformat_minor": 2
}
